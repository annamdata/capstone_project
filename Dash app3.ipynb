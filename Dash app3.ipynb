{
 "cells": [
  {
   "cell_type": "code",
   "execution_count": null,
   "id": "aff7dd84",
   "metadata": {},
   "outputs": [],
   "source": [
    "# Import required libraries\n",
    "import pandas as pd\n",
    "import dash\n",
    "import dash_html_components as html\n",
    "import dash_core_components as dcc\n",
    "from dash.dependencies import Input, Output\n",
    "import plotly.express as px\n"
   ]
  },
  {
   "cell_type": "code",
   "execution_count": null,
   "id": "330d371e",
   "metadata": {},
   "outputs": [],
   "source": [
    "# Read the airline data into pandas dataframe\n",
    "spacex_df = pd.read_csv(\"spacex_launch_dash.csv\")\n",
    "max_payload = spacex_df['Payload Mass (kg)'].max()\n",
    "min_payload = spacex_df['Payload Mass (kg)'].min()\n",
    "\n"
   ]
  },
  {
   "cell_type": "code",
   "execution_count": null,
   "id": "82bca8c8",
   "metadata": {},
   "outputs": [],
   "source": [
    "# Create a dash application\n",
    "app = dash.Dash(__name__)\n",
    "\n",
    "# Create an app layout\n",
    "app.layout = html.Div(children=[html.H1('SpaceX Launch Records Dashboard',\n",
    "                                        style={'textAlign': 'center', 'color': '#503D36',\n",
    "                                               'font-size': 40}),\n",
    "                                # TASK 1: Add a dropdown list to enable Launch Site selection\n",
    "                                # The default select value is for ALL sites\n",
    "                                     dcc.Dropdown(id='site-dropdown',\n",
    "                                            options=[\n",
    "                                                 {'label': 'All Sites', 'value': 'ALL'},\n",
    "                                                 {'label': 'CCAFS LC-40', 'value': 'CCAFS LC-40'},\n",
    "                                                 {'label': 'CCAFS SLC-40', 'value': 'CCAFS SLC-40'},\n",
    "                                                 {'label': 'KSC LC-39A', 'value': 'KSC LC-39A'},\n",
    "                                                 {'label': 'VAFB SLC-4E', 'value': 'VAFB SLC-4E'}\n",
    "                                                 ],\n",
    "                                             value='All Sites',\n",
    "                                             placeholder=\"Select a launch site\",\n",
    "                                             searchable=True\n",
    "                                             ),\n",
    "                                html.Br(),\n"
   ]
  },
  {
   "cell_type": "code",
   "execution_count": null,
   "id": "ccc05c2e",
   "metadata": {},
   "outputs": [],
   "source": [
    "# TASK 2: Add a pie chart to show the total successful launches count for all sites\n",
    "# If a specific launch site was selected, show the Success vs. Failed counts for the site\n",
    "html.Div(dcc.Graph(id='success-pie-chart')),\n",
    "html.Br(),\n",
    "html.P(\"Payload range (Kg):\"),\n",
    "# TASK 3: Add a slider to select payload range\n",
    "#dcc.RangeSlider(id='payload-slider',...)\n",
    "dcc.RangeSlider(id='payload-slider',\n",
    "    min=0, max=10000, step=1000,\n",
    "    marks={0: '0',1000: '1000',2000: '2000',3000: '3000', 4000: '4000',5000: '5000',6000: '6000',7000: '7000',8000: '8000',9000: '9000',10000: '10000'},\n",
    "    value=[min_payload, max_payload]),\n"
   ]
  },
  {
   "cell_type": "code",
   "execution_count": null,
   "id": "672deedd",
   "metadata": {},
   "outputs": [],
   "source": [
    "# TASK 4: Add a scatter chart to show the correlation between payload and launch success\n",
    "html.Div(dcc.Graph(id='success-payload-scatter-chart')),\n",
    "])\n",
    "\n",
    "# TASK 2:\n",
    "# Add a callback function for `site-dropdown` as input, `success-pie-chart` as output\n",
    "@app.callback(Output(component_id='success-pie-chart', component_property='figure'),\n",
    "              Input(component_id='site-dropdown', component_property='value'))\n",
    "\n",
    "def get_pie_chart(entered_site):\n",
    "    filtered_df = spacex_df\n",
    "    if entered_site == 'ALL':\n",
    "        fig = px.pie(filtered_df, values='class', \n",
    "        names='Launch Site', \n",
    "        title='Success Count for all launch sites')\n",
    "        return fig, \"\"  # Return an empty string for 'callback_test'\n",
    "    else:\n",
    "        filtered_df = spacex_df[spacex_df['Launch Site'] == entered_site]\n",
    "        filtered_df = filtered_df.groupby(['Launch Site', 'class']).size().reset_index(name='class count')\n",
    "        fig = px.pie(filtered_df, values='class count', names='class', title=f\"Total Success Launches for site {entered_site}\")\n",
    "        return fig, \"\"  # Return an empty string for 'callback_test'\n"
   ]
  },
  {
   "cell_type": "code",
   "execution_count": null,
   "id": "6a0dc146",
   "metadata": {},
   "outputs": [],
   "source": [
    "# TASK 4:\n",
    "# Add a callback function for `site-dropdown` and `payload-slider` as inputs, `success-payload-scatter-chart` as output\n",
    "@app.callback(Output(component_id='success-payload-scatter-chart', component_property='figure'),\n",
    "              [Input(component_id='site-dropdown', component_property='value'),\n",
    "              Input(component_id='payload-slider',component_property='value')])\n",
    "def scatter(site, payload):\n",
    "    low, high = (payload[0], payload[1])\n",
    "    mask = spacex_df[(spacex_df['Payload Mass (kg)'] >= low) & (spacex_df['Payload Mass (kg)'] <= high)]\n",
    "    if site == 'ALL':\n",
    "        fig = px.scatter(mask, x='Payload Mass (kg)', y='class', color='Booster Version Category', title=\"Correlation between Payload and Success for All sites\")\n",
    "        return fig, \"\"  # Return an empty string for 'callback_test'\n",
    "    else:\n",
    "        mask_filtered = mask[mask['Launch Site'] == site]\n",
    "        fig = px.scatter(mask_filtered, x='Payload Mass (kg)', y='class', color='Booster Version Category', title=f\"Correlation between Payload and Success for site {site}\")\n",
    "        return fig, \"\"  # Return an empty string for 'callback_test'\n",
    "\n",
    "\n",
    "# Run the app\n",
    "if __name__ == '__main__':\n",
    "    app.run_server()\n"
   ]
  }
 ],
 "metadata": {
  "kernelspec": {
   "display_name": "Python 3 (ipykernel)",
   "language": "python",
   "name": "python3"
  },
  "language_info": {
   "codemirror_mode": {
    "name": "ipython",
    "version": 3
   },
   "file_extension": ".py",
   "mimetype": "text/x-python",
   "name": "python",
   "nbconvert_exporter": "python",
   "pygments_lexer": "ipython3",
   "version": "3.10.11"
  }
 },
 "nbformat": 4,
 "nbformat_minor": 5
}
